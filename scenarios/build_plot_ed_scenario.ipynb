{
 "cells": [
  {
   "cell_type": "code",
   "execution_count": 1,
   "metadata": {
    "collapsed": false
   },
   "outputs": [],
   "source": [
    "# Step 1. Read data\n",
    "from scripts.ed_parser import read\n",
    "from scripts import get_project_root\n",
    "\n",
    "file_name = '/mol_data/ccp4/4nre.ccp4'  # dsn6/4nre_2fofc.dsn6 ccp4/4nre.ccp4\n",
    "file_path = str(get_project_root().parent) + file_name\n",
    "ed = read(file_path)"
   ]
  },
  {
   "cell_type": "code",
   "execution_count": 2,
   "metadata": {},
   "outputs": [
    {
     "name": "stdout",
     "output_type": "stream",
     "text": [
      "ed.buffer.min: 0.0\ned.buffer.max: 1.0\ned.header.mean: 0.415150653113841\ned.header.stddev: 0.057354683165420986\n"
     ]
    },
    {
     "name": "stdout",
     "output_type": "stream",
     "text": [
      "threshold 0.47250533627926194\n"
     ]
    },
    {
     "data": {
      "text/plain": [
       "<Figure size 640x480 with 1 Axes>"
      ]
     },
     "execution_count": 0,
     "metadata": {},
     "output_type": "execute_result"
    }
   ],
   "source": [
    "# Step 2. Build histogram\n",
    "from scripts.noise_signal_plot import build_graph\n",
    "build_graph(ed)"
   ]
  },
  {
   "cell_type": "code",
   "execution_count": 2,
   "metadata": {},
   "outputs": [
    {
     "name": "stdout",
     "output_type": "stream",
     "text": [
      "Mean: 0.0007209476316347718 (calc: 0.0007209476898424327)\nStd.Dev: 0.013810832053422928 (calc: 0.013810831122100353)\n"
     ]
    }
   ],
   "source": [
    "# Step 3. Plot slice\n",
    "from scripts.edplot import edplot2d, print_stats\n",
    "print_stats(ed)\n",
    "edplot2d(ed)"
   ]
  },
  {
   "cell_type": "code",
   "execution_count": null,
   "metadata": {},
   "outputs": [],
   "source": []
  }
 ],
 "metadata": {
  "kernelspec": {
   "display_name": "Python 2",
   "language": "python",
   "name": "python2"
  },
  "language_info": {
   "codemirror_mode": {
    "name": "ipython",
    "version": 2
   },
   "file_extension": ".py",
   "mimetype": "text/x-python",
   "name": "python",
   "nbconvert_exporter": "python",
   "pygments_lexer": "ipython2",
   "version": "2.7.6"
  }
 },
 "nbformat": 4,
 "nbformat_minor": 0
}
